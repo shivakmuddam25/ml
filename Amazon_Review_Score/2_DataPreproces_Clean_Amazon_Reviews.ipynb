{
 "cells": [
  {
   "cell_type": "code",
   "execution_count": 1,
   "id": "c229e8af",
   "metadata": {},
   "outputs": [],
   "source": [
    "import pandas as pd\n",
    "import numpy as np\n",
    "import re\n",
    "\n",
    "import nltk\n",
    "from nltk.stem import WordNetLemmatizer, PorterStemmer\n",
    "from nltk.corpus import stopwords\n",
    "\n",
    "from tqdm import tqdm\n",
    "tqdm.pandas()"
   ]
  },
  {
   "cell_type": "code",
   "execution_count": 2,
   "id": "7433217a",
   "metadata": {},
   "outputs": [
    {
     "data": {
      "text/html": [
       "<div>\n",
       "<style scoped>\n",
       "    .dataframe tbody tr th:only-of-type {\n",
       "        vertical-align: middle;\n",
       "    }\n",
       "\n",
       "    .dataframe tbody tr th {\n",
       "        vertical-align: top;\n",
       "    }\n",
       "\n",
       "    .dataframe thead th {\n",
       "        text-align: right;\n",
       "    }\n",
       "</style>\n",
       "<table border=\"1\" class=\"dataframe\">\n",
       "  <thead>\n",
       "    <tr style=\"text-align: right;\">\n",
       "      <th></th>\n",
       "      <th>ProductId</th>\n",
       "      <th>UserId</th>\n",
       "      <th>ProfileName</th>\n",
       "      <th>HelpfulnessNumerator</th>\n",
       "      <th>HelpfulnessDenominator</th>\n",
       "      <th>Score</th>\n",
       "      <th>Time</th>\n",
       "      <th>ReviewSummary</th>\n",
       "      <th>ReviewText</th>\n",
       "    </tr>\n",
       "  </thead>\n",
       "  <tbody>\n",
       "    <tr>\n",
       "      <th>0</th>\n",
       "      <td>B0000GHNUE</td>\n",
       "      <td>A3D7GP8AS2PRIT</td>\n",
       "      <td>S.C.</td>\n",
       "      <td>1</td>\n",
       "      <td>1</td>\n",
       "      <td>5</td>\n",
       "      <td>2010-03-15 00:00:00</td>\n",
       "      <td>Hot but still flavorful</td>\n",
       "      <td>We had the Green Chile Habanero one at a local...</td>\n",
       "    </tr>\n",
       "    <tr>\n",
       "      <th>1</th>\n",
       "      <td>B000TTDDWE</td>\n",
       "      <td>AA1TQ4QJ4Y94P</td>\n",
       "      <td>barb</td>\n",
       "      <td>0</td>\n",
       "      <td>0</td>\n",
       "      <td>5</td>\n",
       "      <td>2010-03-04 00:00:00</td>\n",
       "      <td>Yummy</td>\n",
       "      <td>I bought this item at Costco at Christmas time...</td>\n",
       "    </tr>\n",
       "  </tbody>\n",
       "</table>\n",
       "</div>"
      ],
      "text/plain": [
       "    ProductId          UserId ProfileName  HelpfulnessNumerator  \\\n",
       "0  B0000GHNUE  A3D7GP8AS2PRIT        S.C.                     1   \n",
       "1  B000TTDDWE   AA1TQ4QJ4Y94P        barb                     0   \n",
       "\n",
       "   HelpfulnessDenominator  Score                 Time  \\\n",
       "0                       1      5  2010-03-15 00:00:00   \n",
       "1                       0      5  2010-03-04 00:00:00   \n",
       "\n",
       "             ReviewSummary                                         ReviewText  \n",
       "0  Hot but still flavorful  We had the Green Chile Habanero one at a local...  \n",
       "1                    Yummy  I bought this item at Costco at Christmas time...  "
      ]
     },
     "execution_count": 2,
     "metadata": {},
     "output_type": "execute_result"
    }
   ],
   "source": [
    "# df = pd.read_csv(\"amazon_reviews-clean_1.csv\")\n",
    "df = pd.read_csv(\"Amazon_review.csv\")\n",
    "# df = df.head(1000)\n",
    "df.head(2)"
   ]
  },
  {
   "cell_type": "code",
   "execution_count": 3,
   "id": "6a7470bc",
   "metadata": {},
   "outputs": [
    {
     "data": {
      "text/plain": [
       "(568454, 9)"
      ]
     },
     "execution_count": 3,
     "metadata": {},
     "output_type": "execute_result"
    }
   ],
   "source": [
    "df.shape"
   ]
  },
  {
   "cell_type": "code",
   "execution_count": 4,
   "id": "8d4aceee",
   "metadata": {},
   "outputs": [
    {
     "data": {
      "text/plain": [
       "ProductId                  0\n",
       "UserId                     0\n",
       "ProfileName               16\n",
       "HelpfulnessNumerator       0\n",
       "HelpfulnessDenominator     0\n",
       "Score                      0\n",
       "Time                       0\n",
       "ReviewSummary             27\n",
       "ReviewText                 0\n",
       "dtype: int64"
      ]
     },
     "execution_count": 4,
     "metadata": {},
     "output_type": "execute_result"
    }
   ],
   "source": [
    "df.isna().sum()"
   ]
  },
  {
   "cell_type": "code",
   "execution_count": 5,
   "id": "1670026a",
   "metadata": {
    "scrolled": true
   },
   "outputs": [
    {
     "data": {
      "text/plain": [
       "(568427, 9)"
      ]
     },
     "execution_count": 5,
     "metadata": {},
     "output_type": "execute_result"
    }
   ],
   "source": [
    "df = df[~df[\"ReviewSummary\"].isna()]\n",
    "df.head(2)\n",
    "df.shape"
   ]
  },
  {
   "cell_type": "code",
   "execution_count": 6,
   "id": "ce32ad35",
   "metadata": {},
   "outputs": [
    {
     "data": {
      "text/plain": [
       "(568146, 9)"
      ]
     },
     "execution_count": 6,
     "metadata": {},
     "output_type": "execute_result"
    }
   ],
   "source": [
    "df = df[~df.duplicated()]\n",
    "df.shape"
   ]
  },
  {
   "cell_type": "code",
   "execution_count": 7,
   "id": "54264f5a",
   "metadata": {},
   "outputs": [
    {
     "data": {
      "text/plain": [
       "ProductId                  0\n",
       "UserId                     0\n",
       "ProfileName               16\n",
       "HelpfulnessNumerator       0\n",
       "HelpfulnessDenominator     0\n",
       "Score                      0\n",
       "Time                       0\n",
       "ReviewSummary              0\n",
       "ReviewText                 0\n",
       "dtype: int64"
      ]
     },
     "execution_count": 7,
     "metadata": {},
     "output_type": "execute_result"
    }
   ],
   "source": [
    "df.isna().sum()"
   ]
  },
  {
   "cell_type": "code",
   "execution_count": 8,
   "id": "51e219ad",
   "metadata": {},
   "outputs": [],
   "source": [
    "X = df[[\"ReviewSummary\", \"ReviewText\"]]\n",
    "y = df[[\"Score\"]]"
   ]
  },
  {
   "cell_type": "code",
   "execution_count": 9,
   "id": "9275e102",
   "metadata": {},
   "outputs": [
    {
     "name": "stderr",
     "output_type": "stream",
     "text": [
      "/var/folders/9h/c3j30yj94rsgzs88yqlpgv5m0000gn/T/ipykernel_51192/3793120357.py:1: SettingWithCopyWarning: \n",
      "A value is trying to be set on a copy of a slice from a DataFrame.\n",
      "Try using .loc[row_indexer,col_indexer] = value instead\n",
      "\n",
      "See the caveats in the documentation: https://pandas.pydata.org/pandas-docs/stable/user_guide/indexing.html#returning-a-view-versus-a-copy\n",
      "  X[\"Final_Summary\"] = X[\"ReviewSummary\"] + \" \" + X[\"ReviewText\"]\n",
      "/var/folders/9h/c3j30yj94rsgzs88yqlpgv5m0000gn/T/ipykernel_51192/3793120357.py:2: SettingWithCopyWarning: \n",
      "A value is trying to be set on a copy of a slice from a DataFrame\n",
      "\n",
      "See the caveats in the documentation: https://pandas.pydata.org/pandas-docs/stable/user_guide/indexing.html#returning-a-view-versus-a-copy\n",
      "  X.drop([\"ReviewSummary\", \"ReviewText\"], axis=1, inplace = True)\n"
     ]
    },
    {
     "data": {
      "text/html": [
       "<div>\n",
       "<style scoped>\n",
       "    .dataframe tbody tr th:only-of-type {\n",
       "        vertical-align: middle;\n",
       "    }\n",
       "\n",
       "    .dataframe tbody tr th {\n",
       "        vertical-align: top;\n",
       "    }\n",
       "\n",
       "    .dataframe thead th {\n",
       "        text-align: right;\n",
       "    }\n",
       "</style>\n",
       "<table border=\"1\" class=\"dataframe\">\n",
       "  <thead>\n",
       "    <tr style=\"text-align: right;\">\n",
       "      <th></th>\n",
       "      <th>Final_Summary</th>\n",
       "    </tr>\n",
       "  </thead>\n",
       "  <tbody>\n",
       "    <tr>\n",
       "      <th>0</th>\n",
       "      <td>Hot but still flavorful We had the Green Chile...</td>\n",
       "    </tr>\n",
       "    <tr>\n",
       "      <th>1</th>\n",
       "      <td>Yummy I bought this item at Costco at Christma...</td>\n",
       "    </tr>\n",
       "  </tbody>\n",
       "</table>\n",
       "</div>"
      ],
      "text/plain": [
       "                                       Final_Summary\n",
       "0  Hot but still flavorful We had the Green Chile...\n",
       "1  Yummy I bought this item at Costco at Christma..."
      ]
     },
     "execution_count": 9,
     "metadata": {},
     "output_type": "execute_result"
    }
   ],
   "source": [
    "X[\"Final_Summary\"] = X[\"ReviewSummary\"] + \" \" + X[\"ReviewText\"]\n",
    "X.drop([\"ReviewSummary\", \"ReviewText\"], axis=1, inplace = True)\n",
    "X.head(2)"
   ]
  },
  {
   "cell_type": "code",
   "execution_count": 10,
   "id": "6b033c62",
   "metadata": {},
   "outputs": [
    {
     "data": {
      "text/plain": [
       "(568146, 1)"
      ]
     },
     "execution_count": 10,
     "metadata": {},
     "output_type": "execute_result"
    }
   ],
   "source": [
    "X.shape"
   ]
  },
  {
   "cell_type": "code",
   "execution_count": 11,
   "id": "897b7e00",
   "metadata": {},
   "outputs": [
    {
     "data": {
      "text/plain": [
       "Final_Summary    0\n",
       "dtype: int64"
      ]
     },
     "execution_count": 11,
     "metadata": {},
     "output_type": "execute_result"
    }
   ],
   "source": [
    "X.isna().sum()"
   ]
  },
  {
   "cell_type": "code",
   "execution_count": 12,
   "id": "0b4717b2",
   "metadata": {},
   "outputs": [],
   "source": [
    "from sklearn.model_selection import train_test_split\n",
    "X_train, X_test, y_train, y_test = train_test_split(X, y, train_size=0.8, random_state=100)"
   ]
  },
  {
   "cell_type": "code",
   "execution_count": 13,
   "id": "d3a7b955",
   "metadata": {},
   "outputs": [
    {
     "data": {
      "text/html": [
       "<div>\n",
       "<style scoped>\n",
       "    .dataframe tbody tr th:only-of-type {\n",
       "        vertical-align: middle;\n",
       "    }\n",
       "\n",
       "    .dataframe tbody tr th {\n",
       "        vertical-align: top;\n",
       "    }\n",
       "\n",
       "    .dataframe thead th {\n",
       "        text-align: right;\n",
       "    }\n",
       "</style>\n",
       "<table border=\"1\" class=\"dataframe\">\n",
       "  <thead>\n",
       "    <tr style=\"text-align: right;\">\n",
       "      <th></th>\n",
       "      <th>Final_Summary</th>\n",
       "    </tr>\n",
       "  </thead>\n",
       "  <tbody>\n",
       "    <tr>\n",
       "      <th>517345</th>\n",
       "      <td>Ive' bought hundreds We are big Pepperoni fans...</td>\n",
       "    </tr>\n",
       "    <tr>\n",
       "      <th>176230</th>\n",
       "      <td>a hit with my Grandson Can't say that I've tri...</td>\n",
       "    </tr>\n",
       "    <tr>\n",
       "      <th>543075</th>\n",
       "      <td>Excellent Low Carb Bread This bread is excelle...</td>\n",
       "    </tr>\n",
       "    <tr>\n",
       "      <th>274014</th>\n",
       "      <td>babybmom My 9 mo. old daughter only eats earth...</td>\n",
       "    </tr>\n",
       "    <tr>\n",
       "      <th>29162</th>\n",
       "      <td>Gumbo Mix This gumbo is fantastic.  Everyone t...</td>\n",
       "    </tr>\n",
       "  </tbody>\n",
       "</table>\n",
       "</div>"
      ],
      "text/plain": [
       "                                            Final_Summary\n",
       "517345  Ive' bought hundreds We are big Pepperoni fans...\n",
       "176230  a hit with my Grandson Can't say that I've tri...\n",
       "543075  Excellent Low Carb Bread This bread is excelle...\n",
       "274014  babybmom My 9 mo. old daughter only eats earth...\n",
       "29162   Gumbo Mix This gumbo is fantastic.  Everyone t..."
      ]
     },
     "execution_count": 13,
     "metadata": {},
     "output_type": "execute_result"
    }
   ],
   "source": [
    "X_train.head()"
   ]
  },
  {
   "cell_type": "code",
   "execution_count": 14,
   "id": "6362d874",
   "metadata": {},
   "outputs": [
    {
     "data": {
      "text/html": [
       "<div>\n",
       "<style scoped>\n",
       "    .dataframe tbody tr th:only-of-type {\n",
       "        vertical-align: middle;\n",
       "    }\n",
       "\n",
       "    .dataframe tbody tr th {\n",
       "        vertical-align: top;\n",
       "    }\n",
       "\n",
       "    .dataframe thead th {\n",
       "        text-align: right;\n",
       "    }\n",
       "</style>\n",
       "<table border=\"1\" class=\"dataframe\">\n",
       "  <thead>\n",
       "    <tr style=\"text-align: right;\">\n",
       "      <th></th>\n",
       "      <th>Final_Summary</th>\n",
       "    </tr>\n",
       "  </thead>\n",
       "  <tbody>\n",
       "    <tr>\n",
       "      <th>25886</th>\n",
       "      <td>Can't ask for more Great product and price.  I...</td>\n",
       "    </tr>\n",
       "    <tr>\n",
       "      <th>472292</th>\n",
       "      <td>Nothing Special Ordered these thinking they we...</td>\n",
       "    </tr>\n",
       "    <tr>\n",
       "      <th>388572</th>\n",
       "      <td>Decaf? This can't be decaf! This is one of the...</td>\n",
       "    </tr>\n",
       "    <tr>\n",
       "      <th>152448</th>\n",
       "      <td>Cookie Crumbs Walkers cookies or biscuits alwa...</td>\n",
       "    </tr>\n",
       "    <tr>\n",
       "      <th>80489</th>\n",
       "      <td>MMM - Not your typical store bought sauce - Go...</td>\n",
       "    </tr>\n",
       "  </tbody>\n",
       "</table>\n",
       "</div>"
      ],
      "text/plain": [
       "                                            Final_Summary\n",
       "25886   Can't ask for more Great product and price.  I...\n",
       "472292  Nothing Special Ordered these thinking they we...\n",
       "388572  Decaf? This can't be decaf! This is one of the...\n",
       "152448  Cookie Crumbs Walkers cookies or biscuits alwa...\n",
       "80489   MMM - Not your typical store bought sauce - Go..."
      ]
     },
     "execution_count": 14,
     "metadata": {},
     "output_type": "execute_result"
    }
   ],
   "source": [
    "X_test.head()"
   ]
  },
  {
   "cell_type": "code",
   "execution_count": 15,
   "id": "8a8c8224",
   "metadata": {},
   "outputs": [],
   "source": [
    "# X_train[\"Final_Summary\"] = X_train[\"Final_Summary\"].progress_apply(lambda x: re.sub(\"[^a-zA-Z]\", \" \", str(x)))\n",
    "# X_train.head(2)"
   ]
  },
  {
   "cell_type": "code",
   "execution_count": 16,
   "id": "82e88079",
   "metadata": {},
   "outputs": [],
   "source": [
    "# X_test[\"Final_Summary\"] = X_test[\"ReviewSummary\"] + \" \" +X_test[\"ReviewText\"]\n",
    "# X_test.drop(['ReviewSummary', 'ReviewText'], axis=1, inplace=True)\n",
    "# X_test.head()"
   ]
  },
  {
   "cell_type": "code",
   "execution_count": 17,
   "id": "d2af17fb",
   "metadata": {},
   "outputs": [],
   "source": [
    "def preprocess(X_train, y_train):\n",
    "    import nltk\n",
    "    from nltk.stem import WordNetLemmatizer, PorterStemmer\n",
    "    from nltk.corpus import stopwords\n",
    "    lemmatize = WordNetLemmatizer()\n",
    "    stemmer = PorterStemmer()\n",
    "    # Implement RegEx to remove all special chars\n",
    "    X_train[\"Final_Summary\"] = X_train[\"Final_Summary\"].apply(lambda x: re.sub(\"[^a-zA-Z]\", \" \" , str(x)).lower())\n",
    "    # Implementing the lemmatization, stopwords on the review text column\n",
    "    from tqdm import tqdm\n",
    "    tqdm.pandas()\n",
    "#     X_train[\"Final_Summary_Reg_Lower_Lem_StopWords\"] = X_train[\"Final_Summary_Reg_Lower\"].progress_apply(lambda row: list(set([\" \".join(lemmatize.lemmatize(x)) for x in row.split(\" \") if(x not in stopwords.words(\"english\" or x != \"\") )])))\n",
    "#     X_train[\"Final_Summary_Reg_Lower_Lem_StopWords_NullRemoval\"] = X_train[\"Final_Summary_Reg_Lower_Lem_StopWords\"].apply(lambda row: \" \".join(x) for x in row if x !=\"\") \n",
    "    X_train[\"Final_Summary_Reg_Lower_Lem_StopWords\"] = X_train[\"Final_Summary\"].progress_apply(lambda row: \" \".join(lemmatize.lemmatize(x) for x in row.split(\" \") if(x not in stopwords.words(\"english\" or x != \"\"))))\n",
    "    return X_train                                                                                                     \n",
    "#     return pd.concat([X_train, y_train], axis=1)\n",
    "                                                                                                                                                                                                           "
   ]
  },
  {
   "cell_type": "code",
   "execution_count": 18,
   "id": "bc1054de",
   "metadata": {},
   "outputs": [
    {
     "name": "stderr",
     "output_type": "stream",
     "text": [
      "100%|███████████████████████████████████| 113630/113630 [50:25<00:00, 37.56it/s]\n"
     ]
    }
   ],
   "source": [
    "clean_data_test = preprocess(X_test, y_test)\n",
    "cleaned_data_test = clean_data_test.iloc[:,-2:]\n",
    "cleaned_data_test  = pd.concat([clean_data_test, y_test], axis =1)\n",
    "cleaned_data_test.to_csv(\"cleaned_data_test.csv\")"
   ]
  },
  {
   "cell_type": "code",
   "execution_count": 19,
   "id": "dfea4c59",
   "metadata": {},
   "outputs": [
    {
     "name": "stderr",
     "output_type": "stream",
     "text": [
      "100%|█████████████████████████████████| 454516/454516 [3:51:49<00:00, 32.68it/s]\n"
     ]
    }
   ],
   "source": [
    "clean_data_train = preprocess(X_train, y_train)\n",
    "cleaned_data_train = clean_data_train.iloc[:,-2:]\n",
    "cleaned_data_train = pd.concat([cleaned_data_train, y_train], axis=1)\n",
    "cleaned_data_train.to_csv(\"cleaned_data_train.csv\")"
   ]
  },
  {
   "cell_type": "code",
   "execution_count": null,
   "id": "ff72d2b4",
   "metadata": {},
   "outputs": [],
   "source": []
  }
 ],
 "metadata": {
  "kernelspec": {
   "display_name": "Python 3 (ipykernel)",
   "language": "python",
   "name": "python3"
  },
  "language_info": {
   "codemirror_mode": {
    "name": "ipython",
    "version": 3
   },
   "file_extension": ".py",
   "mimetype": "text/x-python",
   "name": "python",
   "nbconvert_exporter": "python",
   "pygments_lexer": "ipython3",
   "version": "3.9.13"
  }
 },
 "nbformat": 4,
 "nbformat_minor": 5
}
