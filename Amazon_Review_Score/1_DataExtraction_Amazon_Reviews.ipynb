{
 "cells": [
  {
   "cell_type": "code",
   "execution_count": 1,
   "id": "8071893d",
   "metadata": {},
   "outputs": [],
   "source": [
    "import os"
   ]
  },
  {
   "cell_type": "code",
   "execution_count": 2,
   "id": "51603f21",
   "metadata": {},
   "outputs": [],
   "source": [
    "# Extrating the files from the Zipper Folder\n",
    "# %%time\n",
    "# ! wget os.getcwd() -O txt_reviews.zip\n",
    "# ! tar -xzvf txt_reviews.zip\n",
    "# ! del txt_reviews.zip"
   ]
  },
  {
   "cell_type": "code",
   "execution_count": 3,
   "id": "afea077d",
   "metadata": {},
   "outputs": [
    {
     "data": {
      "text/plain": [
       "'/Users/shivakmuddam/txt_reviews'"
      ]
     },
     "execution_count": 3,
     "metadata": {},
     "output_type": "execute_result"
    }
   ],
   "source": [
    "dir_name = \"txt_reviews\"\n",
    "dir_ = os.path.join(os.getcwd(), dir_name)\n",
    "dir_"
   ]
  },
  {
   "cell_type": "code",
   "execution_count": 4,
   "id": "2c21860e",
   "metadata": {},
   "outputs": [
    {
     "name": "stdout",
     "output_type": "stream",
     "text": [
      "['ProductId', 'UserId', 'ProfileName', 'HelpfulnessNumerator', 'HelpfulnessDenominator', 'Score', 'Time', 'ReviewSummary', 'ReviewText']\n"
     ]
    }
   ],
   "source": [
    "# Extract the features from one of the Text Files.\n",
    "with open(os.path.join(dir_, os.listdir(dir_)[0]), \"r\") as f:\n",
    "    cols = [each_item.split(\":\")[0] for each_item in f.readlines()] \n",
    "    print(cols)"
   ]
  },
  {
   "cell_type": "code",
   "execution_count": 5,
   "id": "d3c850c7",
   "metadata": {},
   "outputs": [
    {
     "data": {
      "text/plain": [
       "[[], [], [], [], [], [], [], [], []]"
      ]
     },
     "execution_count": 5,
     "metadata": {},
     "output_type": "execute_result"
    }
   ],
   "source": [
    "li = []\n",
    "for i in range(len(cols)):\n",
    "    li.append([])\n",
    "li"
   ]
  },
  {
   "cell_type": "code",
   "execution_count": 6,
   "id": "313cd767",
   "metadata": {},
   "outputs": [
    {
     "data": {
      "text/html": [
       "<div>\n",
       "<style scoped>\n",
       "    .dataframe tbody tr th:only-of-type {\n",
       "        vertical-align: middle;\n",
       "    }\n",
       "\n",
       "    .dataframe tbody tr th {\n",
       "        vertical-align: top;\n",
       "    }\n",
       "\n",
       "    .dataframe thead th {\n",
       "        text-align: right;\n",
       "    }\n",
       "</style>\n",
       "<table border=\"1\" class=\"dataframe\">\n",
       "  <thead>\n",
       "    <tr style=\"text-align: right;\">\n",
       "      <th></th>\n",
       "      <th>ProductId</th>\n",
       "      <th>UserId</th>\n",
       "      <th>ProfileName</th>\n",
       "      <th>HelpfulnessNumerator</th>\n",
       "      <th>HelpfulnessDenominator</th>\n",
       "      <th>Score</th>\n",
       "      <th>Time</th>\n",
       "      <th>ReviewSummary</th>\n",
       "      <th>ReviewText</th>\n",
       "    </tr>\n",
       "  </thead>\n",
       "  <tbody>\n",
       "  </tbody>\n",
       "</table>\n",
       "</div>"
      ],
      "text/plain": [
       "Empty DataFrame\n",
       "Columns: [ProductId, UserId, ProfileName, HelpfulnessNumerator, HelpfulnessDenominator, Score, Time, ReviewSummary, ReviewText]\n",
       "Index: []"
      ]
     },
     "execution_count": 6,
     "metadata": {},
     "output_type": "execute_result"
    }
   ],
   "source": [
    "import pandas as pd\n",
    "\n",
    "df = pd.DataFrame(columns= cols)\n",
    "df"
   ]
  },
  {
   "cell_type": "code",
   "execution_count": 7,
   "id": "d0579daa",
   "metadata": {},
   "outputs": [
    {
     "data": {
      "text/plain": [
       "'/Users/shivakmuddam/txt_reviews'"
      ]
     },
     "execution_count": 7,
     "metadata": {},
     "output_type": "execute_result"
    }
   ],
   "source": [
    "dir_"
   ]
  },
  {
   "cell_type": "code",
   "execution_count": 8,
   "id": "ee634bd6",
   "metadata": {},
   "outputs": [],
   "source": [
    "# files = [f'/Users/shivakmuddam/txt_reviews/review_{id_}.txt' for id_ in range(1, 568455)]\n",
    "# files"
   ]
  },
  {
   "cell_type": "code",
   "execution_count": 9,
   "id": "70d797cd",
   "metadata": {},
   "outputs": [],
   "source": [
    "# %%time\n",
    "# info = []\n",
    "\n",
    "# for file in files:\n",
    "#     with open(file, 'r') as f:\n",
    "#             lines = f.readlines()        \n",
    "#             info.append([each_line.split(':')[1].strip() for each_line in lines])\n",
    "# info"
   ]
  },
  {
   "cell_type": "code",
   "execution_count": 10,
   "id": "98fecf1c",
   "metadata": {},
   "outputs": [
    {
     "name": "stdout",
     "output_type": "stream",
     "text": [
      "CPU times: user 1min 16s, sys: 2min 6s, total: 3min 23s\n",
      "Wall time: 7min 24s\n"
     ]
    }
   ],
   "source": [
    "%%time\n",
    "# df.drop(df.index, inplace=True)\n",
    "for file in os.listdir(dir_):\n",
    "    with open(os.path.join(dir_, file), \"r\") as f:\n",
    "            c = 0\n",
    "            for each_item in f.readlines(): \n",
    "                li[c].append(each_item.split(\" \", 1)[1].replace(\"\\n\", \"\"))\n",
    "                c += 1        "
   ]
  },
  {
   "cell_type": "code",
   "execution_count": 11,
   "id": "a9ca2f34",
   "metadata": {},
   "outputs": [
    {
     "data": {
      "text/html": [
       "<div>\n",
       "<style scoped>\n",
       "    .dataframe tbody tr th:only-of-type {\n",
       "        vertical-align: middle;\n",
       "    }\n",
       "\n",
       "    .dataframe tbody tr th {\n",
       "        vertical-align: top;\n",
       "    }\n",
       "\n",
       "    .dataframe thead th {\n",
       "        text-align: right;\n",
       "    }\n",
       "</style>\n",
       "<table border=\"1\" class=\"dataframe\">\n",
       "  <thead>\n",
       "    <tr style=\"text-align: right;\">\n",
       "      <th></th>\n",
       "      <th>ProductId</th>\n",
       "      <th>UserId</th>\n",
       "      <th>ProfileName</th>\n",
       "      <th>HelpfulnessNumerator</th>\n",
       "      <th>HelpfulnessDenominator</th>\n",
       "      <th>Score</th>\n",
       "      <th>Time</th>\n",
       "      <th>ReviewSummary</th>\n",
       "      <th>ReviewText</th>\n",
       "    </tr>\n",
       "  </thead>\n",
       "  <tbody>\n",
       "    <tr>\n",
       "      <th>0</th>\n",
       "      <td>B0000GHNUE</td>\n",
       "      <td>A3D7GP8AS2PRIT</td>\n",
       "      <td>S.C.</td>\n",
       "      <td>1</td>\n",
       "      <td>1</td>\n",
       "      <td>5</td>\n",
       "      <td>1268611200</td>\n",
       "      <td>Hot but still flavorful</td>\n",
       "      <td>We had the Green Chile Habanero one at a local...</td>\n",
       "    </tr>\n",
       "    <tr>\n",
       "      <th>1</th>\n",
       "      <td>B000TTDDWE</td>\n",
       "      <td>AA1TQ4QJ4Y94P</td>\n",
       "      <td>barb</td>\n",
       "      <td>0</td>\n",
       "      <td>0</td>\n",
       "      <td>5</td>\n",
       "      <td>1267660800</td>\n",
       "      <td>Yummy</td>\n",
       "      <td>I bought this item at Costco at Christmas time...</td>\n",
       "    </tr>\n",
       "    <tr>\n",
       "      <th>2</th>\n",
       "      <td>B0000ICLLS</td>\n",
       "      <td>A2OXNQ43JBMAEI</td>\n",
       "      <td>nene</td>\n",
       "      <td>0</td>\n",
       "      <td>0</td>\n",
       "      <td>5</td>\n",
       "      <td>1341619200</td>\n",
       "      <td>candy</td>\n",
       "      <td>This is the best candy that I have ever had an...</td>\n",
       "    </tr>\n",
       "    <tr>\n",
       "      <th>3</th>\n",
       "      <td>B000JWGFQC</td>\n",
       "      <td>A2N9T4CS40KDJE</td>\n",
       "      <td>D. Wilson \"Euro writer\"</td>\n",
       "      <td>1</td>\n",
       "      <td>1</td>\n",
       "      <td>3</td>\n",
       "      <td>1189209600</td>\n",
       "      <td>The muffins were a pleasant low carb treat</td>\n",
       "      <td>As the subject said the muffins were a pleasan...</td>\n",
       "    </tr>\n",
       "    <tr>\n",
       "      <th>4</th>\n",
       "      <td>B000KFXEYE</td>\n",
       "      <td>A2M9ANEOKBVD2D</td>\n",
       "      <td>Vinegar Jim</td>\n",
       "      <td>3</td>\n",
       "      <td>9</td>\n",
       "      <td>1</td>\n",
       "      <td>1291075200</td>\n",
       "      <td>Surprise...bait and switch.</td>\n",
       "      <td>The company does not operate properly I ordere...</td>\n",
       "    </tr>\n",
       "  </tbody>\n",
       "</table>\n",
       "</div>"
      ],
      "text/plain": [
       "    ProductId          UserId              ProfileName HelpfulnessNumerator  \\\n",
       "0  B0000GHNUE  A3D7GP8AS2PRIT                     S.C.                    1   \n",
       "1  B000TTDDWE   AA1TQ4QJ4Y94P                     barb                    0   \n",
       "2  B0000ICLLS  A2OXNQ43JBMAEI                     nene                    0   \n",
       "3  B000JWGFQC  A2N9T4CS40KDJE  D. Wilson \"Euro writer\"                    1   \n",
       "4  B000KFXEYE  A2M9ANEOKBVD2D              Vinegar Jim                    3   \n",
       "\n",
       "  HelpfulnessDenominator Score        Time  \\\n",
       "0                      1     5  1268611200   \n",
       "1                      0     5  1267660800   \n",
       "2                      0     5  1341619200   \n",
       "3                      1     3  1189209600   \n",
       "4                      9     1  1291075200   \n",
       "\n",
       "                                ReviewSummary  \\\n",
       "0                     Hot but still flavorful   \n",
       "1                                       Yummy   \n",
       "2                                       candy   \n",
       "3  The muffins were a pleasant low carb treat   \n",
       "4                 Surprise...bait and switch.   \n",
       "\n",
       "                                          ReviewText  \n",
       "0  We had the Green Chile Habanero one at a local...  \n",
       "1  I bought this item at Costco at Christmas time...  \n",
       "2  This is the best candy that I have ever had an...  \n",
       "3  As the subject said the muffins were a pleasan...  \n",
       "4  The company does not operate properly I ordere...  "
      ]
     },
     "execution_count": 11,
     "metadata": {},
     "output_type": "execute_result"
    }
   ],
   "source": [
    "df = pd.DataFrame(li).T\n",
    "df.columns = cols\n",
    "df.head()"
   ]
  },
  {
   "cell_type": "code",
   "execution_count": 12,
   "id": "e3592b7f",
   "metadata": {},
   "outputs": [],
   "source": [
    "# from datetime import datetime\n",
    "# ts = int('1196294400')\n",
    "\n",
    "# # if you encounter a \"year is out of range\" error the timestamp\n",
    "# # may be in milliseconds, try `ts /= 1000` in that case\n",
    "# print(datetime.utcfromtimestamp(ts).strftime('%Y-%m-%d %H:%M:%S'))"
   ]
  },
  {
   "cell_type": "code",
   "execution_count": 13,
   "id": "b95e20fd",
   "metadata": {},
   "outputs": [],
   "source": [
    "from datetime import datetime\n",
    "df['Time'] = df['Time'].apply(lambda x: datetime.utcfromtimestamp(int(x)).strftime('%Y-%m-%d %H:%M:%S'))"
   ]
  },
  {
   "cell_type": "code",
   "execution_count": 18,
   "id": "1214165a",
   "metadata": {},
   "outputs": [
    {
     "data": {
      "text/plain": [
       "(568454, 9)"
      ]
     },
     "execution_count": 18,
     "metadata": {},
     "output_type": "execute_result"
    }
   ],
   "source": [
    "df.shape"
   ]
  },
  {
   "cell_type": "code",
   "execution_count": 19,
   "id": "380a13ad",
   "metadata": {},
   "outputs": [],
   "source": [
    "# for i in range(df.shape[0]):\n",
    "#     if df.loc[i, \"HelpfulnessDenominator\"] == 0:\n",
    "#         df.loc[i, \"Helpfulness\"] = 0\n",
    "#     else:\n",
    "#         df.loc[i, \"Helpfulness\"] = df.loc[i, \"HelpfulnessNumerator\"]/df.loc[i, \"HelpfulnessDenominator\"]\n",
    "        "
   ]
  },
  {
   "cell_type": "code",
   "execution_count": 20,
   "id": "0bdccbc8",
   "metadata": {},
   "outputs": [
    {
     "data": {
      "text/html": [
       "<div>\n",
       "<style scoped>\n",
       "    .dataframe tbody tr th:only-of-type {\n",
       "        vertical-align: middle;\n",
       "    }\n",
       "\n",
       "    .dataframe tbody tr th {\n",
       "        vertical-align: top;\n",
       "    }\n",
       "\n",
       "    .dataframe thead th {\n",
       "        text-align: right;\n",
       "    }\n",
       "</style>\n",
       "<table border=\"1\" class=\"dataframe\">\n",
       "  <thead>\n",
       "    <tr style=\"text-align: right;\">\n",
       "      <th></th>\n",
       "      <th>ProductId</th>\n",
       "      <th>UserId</th>\n",
       "      <th>ProfileName</th>\n",
       "      <th>HelpfulnessNumerator</th>\n",
       "      <th>HelpfulnessDenominator</th>\n",
       "      <th>Score</th>\n",
       "      <th>Time</th>\n",
       "      <th>ReviewSummary</th>\n",
       "      <th>ReviewText</th>\n",
       "    </tr>\n",
       "  </thead>\n",
       "  <tbody>\n",
       "    <tr>\n",
       "      <th>0</th>\n",
       "      <td>B0000GHNUE</td>\n",
       "      <td>A3D7GP8AS2PRIT</td>\n",
       "      <td>S.C.</td>\n",
       "      <td>1</td>\n",
       "      <td>1</td>\n",
       "      <td>5</td>\n",
       "      <td>2010-03-15 00:00:00</td>\n",
       "      <td>Hot but still flavorful</td>\n",
       "      <td>We had the Green Chile Habanero one at a local...</td>\n",
       "    </tr>\n",
       "    <tr>\n",
       "      <th>1</th>\n",
       "      <td>B000TTDDWE</td>\n",
       "      <td>AA1TQ4QJ4Y94P</td>\n",
       "      <td>barb</td>\n",
       "      <td>0</td>\n",
       "      <td>0</td>\n",
       "      <td>5</td>\n",
       "      <td>2010-03-04 00:00:00</td>\n",
       "      <td>Yummy</td>\n",
       "      <td>I bought this item at Costco at Christmas time...</td>\n",
       "    </tr>\n",
       "    <tr>\n",
       "      <th>2</th>\n",
       "      <td>B0000ICLLS</td>\n",
       "      <td>A2OXNQ43JBMAEI</td>\n",
       "      <td>nene</td>\n",
       "      <td>0</td>\n",
       "      <td>0</td>\n",
       "      <td>5</td>\n",
       "      <td>2012-07-07 00:00:00</td>\n",
       "      <td>candy</td>\n",
       "      <td>This is the best candy that I have ever had an...</td>\n",
       "    </tr>\n",
       "    <tr>\n",
       "      <th>3</th>\n",
       "      <td>B000JWGFQC</td>\n",
       "      <td>A2N9T4CS40KDJE</td>\n",
       "      <td>D. Wilson \"Euro writer\"</td>\n",
       "      <td>1</td>\n",
       "      <td>1</td>\n",
       "      <td>3</td>\n",
       "      <td>2007-09-08 00:00:00</td>\n",
       "      <td>The muffins were a pleasant low carb treat</td>\n",
       "      <td>As the subject said the muffins were a pleasan...</td>\n",
       "    </tr>\n",
       "    <tr>\n",
       "      <th>4</th>\n",
       "      <td>B000KFXEYE</td>\n",
       "      <td>A2M9ANEOKBVD2D</td>\n",
       "      <td>Vinegar Jim</td>\n",
       "      <td>3</td>\n",
       "      <td>9</td>\n",
       "      <td>1</td>\n",
       "      <td>2010-11-30 00:00:00</td>\n",
       "      <td>Surprise...bait and switch.</td>\n",
       "      <td>The company does not operate properly I ordere...</td>\n",
       "    </tr>\n",
       "  </tbody>\n",
       "</table>\n",
       "</div>"
      ],
      "text/plain": [
       "    ProductId          UserId              ProfileName  HelpfulnessNumerator  \\\n",
       "0  B0000GHNUE  A3D7GP8AS2PRIT                     S.C.                     1   \n",
       "1  B000TTDDWE   AA1TQ4QJ4Y94P                     barb                     0   \n",
       "2  B0000ICLLS  A2OXNQ43JBMAEI                     nene                     0   \n",
       "3  B000JWGFQC  A2N9T4CS40KDJE  D. Wilson \"Euro writer\"                     1   \n",
       "4  B000KFXEYE  A2M9ANEOKBVD2D              Vinegar Jim                     3   \n",
       "\n",
       "   HelpfulnessDenominator  Score                 Time  \\\n",
       "0                       1      5  2010-03-15 00:00:00   \n",
       "1                       0      5  2010-03-04 00:00:00   \n",
       "2                       0      5  2012-07-07 00:00:00   \n",
       "3                       1      3  2007-09-08 00:00:00   \n",
       "4                       9      1  2010-11-30 00:00:00   \n",
       "\n",
       "                                ReviewSummary  \\\n",
       "0                     Hot but still flavorful   \n",
       "1                                       Yummy   \n",
       "2                                       candy   \n",
       "3  The muffins were a pleasant low carb treat   \n",
       "4                 Surprise...bait and switch.   \n",
       "\n",
       "                                          ReviewText  \n",
       "0  We had the Green Chile Habanero one at a local...  \n",
       "1  I bought this item at Costco at Christmas time...  \n",
       "2  This is the best candy that I have ever had an...  \n",
       "3  As the subject said the muffins were a pleasan...  \n",
       "4  The company does not operate properly I ordere...  "
      ]
     },
     "execution_count": 20,
     "metadata": {},
     "output_type": "execute_result"
    }
   ],
   "source": [
    "df.to_csv('Amazon_review.csv', index=None)\n",
    "df_amazon_review = pd.read_csv('Amazon_review.csv', index_col=None)\n",
    "df_amazon_review.head()"
   ]
  },
  {
   "cell_type": "code",
   "execution_count": 22,
   "id": "7e568a97",
   "metadata": {},
   "outputs": [
    {
     "data": {
      "text/plain": [
       "(568454, 9)"
      ]
     },
     "execution_count": 22,
     "metadata": {},
     "output_type": "execute_result"
    }
   ],
   "source": [
    "df.shape"
   ]
  },
  {
   "cell_type": "code",
   "execution_count": 23,
   "id": "72ac2fcb",
   "metadata": {},
   "outputs": [
    {
     "data": {
      "text/plain": [
       "256059"
      ]
     },
     "execution_count": 23,
     "metadata": {},
     "output_type": "execute_result"
    }
   ],
   "source": [
    "df_amazon_review[\"UserId\"].nunique()"
   ]
  },
  {
   "cell_type": "code",
   "execution_count": null,
   "id": "d4ab5725",
   "metadata": {},
   "outputs": [],
   "source": []
  }
 ],
 "metadata": {
  "kernelspec": {
   "display_name": "Python 3 (ipykernel)",
   "language": "python",
   "name": "python3"
  },
  "language_info": {
   "codemirror_mode": {
    "name": "ipython",
    "version": 3
   },
   "file_extension": ".py",
   "mimetype": "text/x-python",
   "name": "python",
   "nbconvert_exporter": "python",
   "pygments_lexer": "ipython3",
   "version": "3.9.13"
  }
 },
 "nbformat": 4,
 "nbformat_minor": 5
}
