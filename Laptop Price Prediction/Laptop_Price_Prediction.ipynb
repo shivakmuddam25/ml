{
 "cells": [
  {
   "cell_type": "markdown",
   "id": "086b763f",
   "metadata": {},
   "source": [
    "## Import Libraries"
   ]
  },
  {
   "cell_type": "code",
   "execution_count": 1,
   "id": "0cb0a481",
   "metadata": {},
   "outputs": [],
   "source": [
    "import pandas as pd\n",
    "import numpy as np\n",
    "import re\n",
    "import seaborn as sns\n",
    "import matplotlib.pyplot as plt"
   ]
  },
  {
   "cell_type": "markdown",
   "id": "0813c584",
   "metadata": {},
   "source": [
    "## Read the file and create a pandas dataframe"
   ]
  },
  {
   "cell_type": "code",
   "execution_count": 2,
   "id": "90492076",
   "metadata": {},
   "outputs": [
    {
     "data": {
      "text/html": [
       "<div>\n",
       "<style scoped>\n",
       "    .dataframe tbody tr th:only-of-type {\n",
       "        vertical-align: middle;\n",
       "    }\n",
       "\n",
       "    .dataframe tbody tr th {\n",
       "        vertical-align: top;\n",
       "    }\n",
       "\n",
       "    .dataframe thead th {\n",
       "        text-align: right;\n",
       "    }\n",
       "</style>\n",
       "<table border=\"1\" class=\"dataframe\">\n",
       "  <thead>\n",
       "    <tr style=\"text-align: right;\">\n",
       "      <th></th>\n",
       "      <th>Product</th>\n",
       "      <th>Rating</th>\n",
       "      <th>MRP</th>\n",
       "      <th>Feature</th>\n",
       "    </tr>\n",
       "  </thead>\n",
       "  <tbody>\n",
       "    <tr>\n",
       "      <th>0</th>\n",
       "      <td>Lenovo IdeaPad 3 Core i3 11th Gen - (8 GB/256 ...</td>\n",
       "      <td>4.2</td>\n",
       "      <td>₹36,990</td>\n",
       "      <td>Intel Core i3 Processor (11th Gen)8 GB DDR4 RA...</td>\n",
       "    </tr>\n",
       "    <tr>\n",
       "      <th>1</th>\n",
       "      <td>Lenovo IdeaPad 3 Core i3 11th Gen - (8 GB/512 ...</td>\n",
       "      <td>4.2</td>\n",
       "      <td>₹39,990</td>\n",
       "      <td>Intel Core i3 Processor (11th Gen)8 GB DDR4 RA...</td>\n",
       "    </tr>\n",
       "    <tr>\n",
       "      <th>2</th>\n",
       "      <td>ASUS VivoBook 15 (2022) Core i3 10th Gen - (8 ...</td>\n",
       "      <td>4.3</td>\n",
       "      <td>₹32,990</td>\n",
       "      <td>Intel Core i3 Processor (10th Gen)8 GB DDR4 RA...</td>\n",
       "    </tr>\n",
       "    <tr>\n",
       "      <th>3</th>\n",
       "      <td>HP Pavilion Ryzen 5 Hexa Core AMD R5-5600H - (...</td>\n",
       "      <td>4.4</td>\n",
       "      <td>₹49,990</td>\n",
       "      <td>AMD Ryzen 5 Hexa Core Processor8 GB DDR4 RAM64...</td>\n",
       "    </tr>\n",
       "    <tr>\n",
       "      <th>4</th>\n",
       "      <td>ASUS TUF Gaming F15 Core i5 10th Gen - (8 GB/5...</td>\n",
       "      <td>4.4</td>\n",
       "      <td>₹49,990</td>\n",
       "      <td>Intel Core i5 Processor (10th Gen)8 GB DDR4 RA...</td>\n",
       "    </tr>\n",
       "  </tbody>\n",
       "</table>\n",
       "</div>"
      ],
      "text/plain": [
       "                                             Product  Rating      MRP  \\\n",
       "0  Lenovo IdeaPad 3 Core i3 11th Gen - (8 GB/256 ...     4.2  ₹36,990   \n",
       "1  Lenovo IdeaPad 3 Core i3 11th Gen - (8 GB/512 ...     4.2  ₹39,990   \n",
       "2  ASUS VivoBook 15 (2022) Core i3 10th Gen - (8 ...     4.3  ₹32,990   \n",
       "3  HP Pavilion Ryzen 5 Hexa Core AMD R5-5600H - (...     4.4  ₹49,990   \n",
       "4  ASUS TUF Gaming F15 Core i5 10th Gen - (8 GB/5...     4.4  ₹49,990   \n",
       "\n",
       "                                             Feature  \n",
       "0  Intel Core i3 Processor (11th Gen)8 GB DDR4 RA...  \n",
       "1  Intel Core i3 Processor (11th Gen)8 GB DDR4 RA...  \n",
       "2  Intel Core i3 Processor (10th Gen)8 GB DDR4 RA...  \n",
       "3  AMD Ryzen 5 Hexa Core Processor8 GB DDR4 RAM64...  \n",
       "4  Intel Core i5 Processor (10th Gen)8 GB DDR4 RA...  "
      ]
     },
     "execution_count": 2,
     "metadata": {},
     "output_type": "execute_result"
    }
   ],
   "source": [
    "df = pd.read_csv(\"laptop_details.csv\")\n",
    "df.head()"
   ]
  },
  {
   "cell_type": "code",
   "execution_count": 3,
   "id": "dc433711",
   "metadata": {},
   "outputs": [
    {
     "data": {
      "text/plain": [
       "(720, 4)"
      ]
     },
     "execution_count": 3,
     "metadata": {},
     "output_type": "execute_result"
    }
   ],
   "source": [
    "df.shape"
   ]
  },
  {
   "cell_type": "code",
   "execution_count": 4,
   "id": "7bda98a7",
   "metadata": {},
   "outputs": [
    {
     "data": {
      "text/html": [
       "<div>\n",
       "<style scoped>\n",
       "    .dataframe tbody tr th:only-of-type {\n",
       "        vertical-align: middle;\n",
       "    }\n",
       "\n",
       "    .dataframe tbody tr th {\n",
       "        vertical-align: top;\n",
       "    }\n",
       "\n",
       "    .dataframe thead th {\n",
       "        text-align: right;\n",
       "    }\n",
       "</style>\n",
       "<table border=\"1\" class=\"dataframe\">\n",
       "  <thead>\n",
       "    <tr style=\"text-align: right;\">\n",
       "      <th></th>\n",
       "      <th>Rating</th>\n",
       "    </tr>\n",
       "  </thead>\n",
       "  <tbody>\n",
       "    <tr>\n",
       "      <th>count</th>\n",
       "      <td>581.000000</td>\n",
       "    </tr>\n",
       "    <tr>\n",
       "      <th>mean</th>\n",
       "      <td>4.321170</td>\n",
       "    </tr>\n",
       "    <tr>\n",
       "      <th>std</th>\n",
       "      <td>0.282872</td>\n",
       "    </tr>\n",
       "    <tr>\n",
       "      <th>min</th>\n",
       "      <td>3.000000</td>\n",
       "    </tr>\n",
       "    <tr>\n",
       "      <th>25%</th>\n",
       "      <td>4.200000</td>\n",
       "    </tr>\n",
       "    <tr>\n",
       "      <th>50%</th>\n",
       "      <td>4.300000</td>\n",
       "    </tr>\n",
       "    <tr>\n",
       "      <th>75%</th>\n",
       "      <td>4.500000</td>\n",
       "    </tr>\n",
       "    <tr>\n",
       "      <th>max</th>\n",
       "      <td>5.000000</td>\n",
       "    </tr>\n",
       "  </tbody>\n",
       "</table>\n",
       "</div>"
      ],
      "text/plain": [
       "           Rating\n",
       "count  581.000000\n",
       "mean     4.321170\n",
       "std      0.282872\n",
       "min      3.000000\n",
       "25%      4.200000\n",
       "50%      4.300000\n",
       "75%      4.500000\n",
       "max      5.000000"
      ]
     },
     "execution_count": 4,
     "metadata": {},
     "output_type": "execute_result"
    }
   ],
   "source": [
    "df.describe()"
   ]
  },
  {
   "cell_type": "code",
   "execution_count": 5,
   "id": "359aa8a3",
   "metadata": {},
   "outputs": [
    {
     "name": "stdout",
     "output_type": "stream",
     "text": [
      "<class 'pandas.core.frame.DataFrame'>\n",
      "RangeIndex: 720 entries, 0 to 719\n",
      "Data columns (total 4 columns):\n",
      " #   Column   Non-Null Count  Dtype  \n",
      "---  ------   --------------  -----  \n",
      " 0   Product  720 non-null    object \n",
      " 1   Rating   581 non-null    float64\n",
      " 2   MRP      720 non-null    object \n",
      " 3   Feature  720 non-null    object \n",
      "dtypes: float64(1), object(3)\n",
      "memory usage: 22.6+ KB\n"
     ]
    }
   ],
   "source": [
    "df.info()"
   ]
  },
  {
   "cell_type": "code",
   "execution_count": 6,
   "id": "ef697476",
   "metadata": {},
   "outputs": [
    {
     "data": {
      "text/plain": [
       "Product      0\n",
       "Rating     139\n",
       "MRP          0\n",
       "Feature      0\n",
       "dtype: int64"
      ]
     },
     "execution_count": 6,
     "metadata": {},
     "output_type": "execute_result"
    }
   ],
   "source": [
    "df.isnull().sum()"
   ]
  },
  {
   "cell_type": "code",
   "execution_count": 7,
   "id": "8278b1f8",
   "metadata": {},
   "outputs": [
    {
     "data": {
      "text/plain": [
       "4.2    165\n",
       "4.3     72\n",
       "4.4     58\n",
       "4.1     56\n",
       "4.6     52\n",
       "4.5     48\n",
       "4.0     27\n",
       "4.9     26\n",
       "4.7     16\n",
       "3.9     15\n",
       "4.8     13\n",
       "5.0     12\n",
       "3.7     11\n",
       "3.8      4\n",
       "3.5      2\n",
       "3.6      2\n",
       "3.4      1\n",
       "3.0      1\n",
       "Name: Rating, dtype: int64"
      ]
     },
     "execution_count": 7,
     "metadata": {},
     "output_type": "execute_result"
    }
   ],
   "source": [
    "df.Rating.value_counts()"
   ]
  },
  {
   "cell_type": "code",
   "execution_count": 8,
   "id": "4910933b",
   "metadata": {},
   "outputs": [
    {
     "data": {
      "text/html": [
       "<div>\n",
       "<style scoped>\n",
       "    .dataframe tbody tr th:only-of-type {\n",
       "        vertical-align: middle;\n",
       "    }\n",
       "\n",
       "    .dataframe tbody tr th {\n",
       "        vertical-align: top;\n",
       "    }\n",
       "\n",
       "    .dataframe thead th {\n",
       "        text-align: right;\n",
       "    }\n",
       "</style>\n",
       "<table border=\"1\" class=\"dataframe\">\n",
       "  <thead>\n",
       "    <tr style=\"text-align: right;\">\n",
       "      <th></th>\n",
       "      <th>Product</th>\n",
       "      <th>Rating</th>\n",
       "      <th>MRP</th>\n",
       "      <th>Feature</th>\n",
       "    </tr>\n",
       "  </thead>\n",
       "  <tbody>\n",
       "    <tr>\n",
       "      <th>22</th>\n",
       "      <td>Lenovo Celeron Dual Core - (4 GB/256 GB HDD/25...</td>\n",
       "      <td>3.7</td>\n",
       "      <td>₹19,490</td>\n",
       "      <td>Intel Celeron Dual Core Processor4 GB LPDDR4 R...</td>\n",
       "    </tr>\n",
       "    <tr>\n",
       "      <th>43</th>\n",
       "      <td>HP Athlon Dual Core 3050U - (8 GB/256 GB SSD/W...</td>\n",
       "      <td>3.9</td>\n",
       "      <td>₹25,990</td>\n",
       "      <td>AMD Athlon Dual Core Processor8 GB DDR4 RAM64 ...</td>\n",
       "    </tr>\n",
       "  </tbody>\n",
       "</table>\n",
       "</div>"
      ],
      "text/plain": [
       "                                              Product  Rating      MRP  \\\n",
       "22  Lenovo Celeron Dual Core - (4 GB/256 GB HDD/25...     3.7  ₹19,490   \n",
       "43  HP Athlon Dual Core 3050U - (8 GB/256 GB SSD/W...     3.9  ₹25,990   \n",
       "\n",
       "                                              Feature  \n",
       "22  Intel Celeron Dual Core Processor4 GB LPDDR4 R...  \n",
       "43  AMD Athlon Dual Core Processor8 GB DDR4 RAM64 ...  "
      ]
     },
     "execution_count": 8,
     "metadata": {},
     "output_type": "execute_result"
    }
   ],
   "source": [
    "df[df[\"Rating\"] < 4].head(2)"
   ]
  },
  {
   "cell_type": "code",
   "execution_count": 9,
   "id": "c6aff2f4",
   "metadata": {},
   "outputs": [
    {
     "data": {
      "text/plain": [
       "139"
      ]
     },
     "execution_count": 9,
     "metadata": {},
     "output_type": "execute_result"
    }
   ],
   "source": [
    "df.Rating.isna().sum()"
   ]
  },
  {
   "cell_type": "markdown",
   "id": "1880f8be",
   "metadata": {},
   "source": [
    "## Clean the MRP feature"
   ]
  },
  {
   "cell_type": "code",
   "execution_count": 10,
   "id": "3ac400f4",
   "metadata": {},
   "outputs": [
    {
     "data": {
      "text/html": [
       "<div>\n",
       "<style scoped>\n",
       "    .dataframe tbody tr th:only-of-type {\n",
       "        vertical-align: middle;\n",
       "    }\n",
       "\n",
       "    .dataframe tbody tr th {\n",
       "        vertical-align: top;\n",
       "    }\n",
       "\n",
       "    .dataframe thead th {\n",
       "        text-align: right;\n",
       "    }\n",
       "</style>\n",
       "<table border=\"1\" class=\"dataframe\">\n",
       "  <thead>\n",
       "    <tr style=\"text-align: right;\">\n",
       "      <th></th>\n",
       "      <th>Product</th>\n",
       "      <th>Rating</th>\n",
       "      <th>MRP</th>\n",
       "      <th>Feature</th>\n",
       "    </tr>\n",
       "  </thead>\n",
       "  <tbody>\n",
       "    <tr>\n",
       "      <th>0</th>\n",
       "      <td>Lenovo IdeaPad 3 Core i3 11th Gen - (8 GB/256 ...</td>\n",
       "      <td>4.2</td>\n",
       "      <td>36990</td>\n",
       "      <td>Intel Core i3 Processor (11th Gen)8 GB DDR4 RA...</td>\n",
       "    </tr>\n",
       "    <tr>\n",
       "      <th>1</th>\n",
       "      <td>Lenovo IdeaPad 3 Core i3 11th Gen - (8 GB/512 ...</td>\n",
       "      <td>4.2</td>\n",
       "      <td>39990</td>\n",
       "      <td>Intel Core i3 Processor (11th Gen)8 GB DDR4 RA...</td>\n",
       "    </tr>\n",
       "    <tr>\n",
       "      <th>2</th>\n",
       "      <td>ASUS VivoBook 15 (2022) Core i3 10th Gen - (8 ...</td>\n",
       "      <td>4.3</td>\n",
       "      <td>32990</td>\n",
       "      <td>Intel Core i3 Processor (10th Gen)8 GB DDR4 RA...</td>\n",
       "    </tr>\n",
       "  </tbody>\n",
       "</table>\n",
       "</div>"
      ],
      "text/plain": [
       "                                             Product  Rating    MRP  \\\n",
       "0  Lenovo IdeaPad 3 Core i3 11th Gen - (8 GB/256 ...     4.2  36990   \n",
       "1  Lenovo IdeaPad 3 Core i3 11th Gen - (8 GB/512 ...     4.2  39990   \n",
       "2  ASUS VivoBook 15 (2022) Core i3 10th Gen - (8 ...     4.3  32990   \n",
       "\n",
       "                                             Feature  \n",
       "0  Intel Core i3 Processor (11th Gen)8 GB DDR4 RA...  \n",
       "1  Intel Core i3 Processor (11th Gen)8 GB DDR4 RA...  \n",
       "2  Intel Core i3 Processor (10th Gen)8 GB DDR4 RA...  "
      ]
     },
     "execution_count": 10,
     "metadata": {},
     "output_type": "execute_result"
    }
   ],
   "source": [
    "import re\n",
    "df[\"MRP\"] = df[\"MRP\"].apply(lambda price: re.sub(\"[^0-9]\", \"\", price))\n",
    "df.head(3)"
   ]
  },
  {
   "cell_type": "code",
   "execution_count": 11,
   "id": "752a3ade",
   "metadata": {},
   "outputs": [
    {
     "name": "stdout",
     "output_type": "stream",
     "text": [
      "Lenovo IdeaPad 3 Core i3 11th Gen - (8 GB/256 GB SSD/Windows 11 Home) 14ITL05 Thin and Light Laptop\n",
      "Lenovo IdeaPad 3 Core i3 11th Gen - (8 GB/512 GB SSD/Windows 11 Home) 82H801L7IN | 82H802FJIN | 82H802...\n",
      "DELL Inspiron Core i3 11th Gen - (8 GB/1 TB HDD/256 GB SSD/Windows 11 Home) D560841WIN9S Thin and Ligh...\n",
      "HP Pavilion Ryzen 5 Hexa Core AMD R5-5600H - (8 GB/512 GB SSD/Windows 11 Home/4 GB Graphics/NVIDIA GeF...\n"
     ]
    }
   ],
   "source": [
    "print(df.loc[0][0])\n",
    "print(df.loc[1][0])\n",
    "print(df.loc[6][0])\n",
    "print(df.loc[10][0])"
   ]
  },
  {
   "cell_type": "markdown",
   "id": "18c56149",
   "metadata": {},
   "source": [
    "## Extract the features from the specifications provided "
   ]
  },
  {
   "cell_type": "code",
   "execution_count": 12,
   "id": "869227aa",
   "metadata": {
    "scrolled": true
   },
   "outputs": [
    {
     "data": {
      "text/html": [
       "<div>\n",
       "<style scoped>\n",
       "    .dataframe tbody tr th:only-of-type {\n",
       "        vertical-align: middle;\n",
       "    }\n",
       "\n",
       "    .dataframe tbody tr th {\n",
       "        vertical-align: top;\n",
       "    }\n",
       "\n",
       "    .dataframe thead th {\n",
       "        text-align: right;\n",
       "    }\n",
       "</style>\n",
       "<table border=\"1\" class=\"dataframe\">\n",
       "  <thead>\n",
       "    <tr style=\"text-align: right;\">\n",
       "      <th></th>\n",
       "      <th>Model</th>\n",
       "      <th>Model_Type</th>\n",
       "      <th>RAM (GB)</th>\n",
       "      <th>HD</th>\n",
       "    </tr>\n",
       "  </thead>\n",
       "  <tbody>\n",
       "    <tr>\n",
       "      <th>0</th>\n",
       "      <td>Lenovo</td>\n",
       "      <td>IdeaPad 3</td>\n",
       "      <td>8</td>\n",
       "      <td>256</td>\n",
       "    </tr>\n",
       "    <tr>\n",
       "      <th>1</th>\n",
       "      <td>Lenovo</td>\n",
       "      <td>IdeaPad 3</td>\n",
       "      <td>8</td>\n",
       "      <td>512</td>\n",
       "    </tr>\n",
       "    <tr>\n",
       "      <th>2</th>\n",
       "      <td>ASUS</td>\n",
       "      <td>VivoBook 15 (2022)</td>\n",
       "      <td>8</td>\n",
       "      <td>512</td>\n",
       "    </tr>\n",
       "    <tr>\n",
       "      <th>3</th>\n",
       "      <td>HP</td>\n",
       "      <td>Pavilion Ryzen 5 Hexa</td>\n",
       "      <td>8</td>\n",
       "      <td>512</td>\n",
       "    </tr>\n",
       "    <tr>\n",
       "      <th>4</th>\n",
       "      <td>ASUS</td>\n",
       "      <td>TUF Gaming F15</td>\n",
       "      <td>8</td>\n",
       "      <td>512</td>\n",
       "    </tr>\n",
       "    <tr>\n",
       "      <th>...</th>\n",
       "      <td>...</td>\n",
       "      <td>...</td>\n",
       "      <td>...</td>\n",
       "      <td>...</td>\n",
       "    </tr>\n",
       "    <tr>\n",
       "      <th>715</th>\n",
       "      <td>ASUS</td>\n",
       "      <td>Chromebook Flip Touch Celeron Dual</td>\n",
       "      <td>4</td>\n",
       "      <td>64</td>\n",
       "    </tr>\n",
       "    <tr>\n",
       "      <th>716</th>\n",
       "      <td>Lenovo</td>\n",
       "      <td>IdeaPad Gaming 3 Ryzen 7 Octa</td>\n",
       "      <td>8</td>\n",
       "      <td>512</td>\n",
       "    </tr>\n",
       "    <tr>\n",
       "      <th>717</th>\n",
       "      <td>ASUS</td>\n",
       "      <td>ROG Zephyrus G15 Ryzen 9 Octa</td>\n",
       "      <td>16</td>\n",
       "      <td>1</td>\n",
       "    </tr>\n",
       "    <tr>\n",
       "      <th>718</th>\n",
       "      <td>ASUS</td>\n",
       "      <td>Zenbook Flip 14 OLED (2022) Touch Panel</td>\n",
       "      <td>16</td>\n",
       "      <td>512</td>\n",
       "    </tr>\n",
       "    <tr>\n",
       "      <th>719</th>\n",
       "      <td>Lenovo</td>\n",
       "      <td>Ideapad Slim 3i</td>\n",
       "      <td>8</td>\n",
       "      <td>1</td>\n",
       "    </tr>\n",
       "  </tbody>\n",
       "</table>\n",
       "<p>720 rows × 4 columns</p>\n",
       "</div>"
      ],
      "text/plain": [
       "      Model                                Model_Type RAM (GB)   HD\n",
       "0    Lenovo                                IdeaPad 3         8  256\n",
       "1    Lenovo                                IdeaPad 3         8  512\n",
       "2      ASUS                       VivoBook 15 (2022)         8  512\n",
       "3        HP                    Pavilion Ryzen 5 Hexa         8  512\n",
       "4      ASUS                           TUF Gaming F15         8  512\n",
       "..      ...                                       ...      ...  ...\n",
       "715    ASUS       Chromebook Flip Touch Celeron Dual         4   64\n",
       "716  Lenovo            IdeaPad Gaming 3 Ryzen 7 Octa         8  512\n",
       "717    ASUS            ROG Zephyrus G15 Ryzen 9 Octa        16    1\n",
       "718    ASUS  Zenbook Flip 14 OLED (2022) Touch Panel        16  512\n",
       "719  Lenovo                          Ideapad Slim 3i         8    1\n",
       "\n",
       "[720 rows x 4 columns]"
      ]
     },
     "execution_count": 12,
     "metadata": {},
     "output_type": "execute_result"
    }
   ],
   "source": [
    "model = []\n",
    "RAM = []\n",
    "HDD = []\n",
    "HD = []\n",
    "HD_GB = []\n",
    "HDD_SSD = []\n",
    "model_type = []\n",
    "for row in range(df.shape[0]):\n",
    "    model.append(df.loc[row, \"Product\"].split(\" \", 1)[0])\n",
    "    RAM.append(df.loc[row, \"Product\"].split(\"GB\")[0].strip()[-2:].replace(\"(\", \"\"))\n",
    "    HD.append(df.loc[row, \"Product\"].split(\"/\")[1].split(\" \")[0]) \n",
    "    HD_GB.append(df.loc[row, \"Product\"].split(\"/\")[1].split(\" \")[1])\n",
    "    HDD_SSD.append(df.loc[row, \"Product\"].split(\"/\")[1].split(\" \")[2])\n",
    "    model_type.append(df.loc[row, \"Product\"].split(\" \", 1)[1].split(\"Core\")[0])\n",
    "\n",
    "df_ = pd.DataFrame({\"Model\": model, \"Model_Type\": model_type, \"RAM (GB)\": RAM, \"HD\": HD})\n",
    "df_"
   ]
  },
  {
   "cell_type": "code",
   "execution_count": 13,
   "id": "62e0338f",
   "metadata": {},
   "outputs": [
    {
     "data": {
      "text/plain": [
       "IdeaPad 3                                                67\n",
       "                                                         43\n",
       "ROG Strix G15 (2022) with 90Whr Battery Ryzen 9 Octa     31\n",
       "Pro                                                      31\n",
       "IdeaPad 1 Ryzen 5 Quad                                   30\n",
       "                                                         ..\n",
       "Lenovo Legion 5 Pro Ryzen 7 Octa                          1\n",
       "Inspiron Ryzen 5 Dual                                     1\n",
       "ROG Flow X13 Ryzen 7 Octa                                 1\n",
       "Ryzen 5 Dual                                              1\n",
       "Ideapad Slim 3i                                           1\n",
       "Name: Model_Type, Length: 227, dtype: int64"
      ]
     },
     "execution_count": 13,
     "metadata": {},
     "output_type": "execute_result"
    }
   ],
   "source": [
    "df_[\"Model_Type\"].value_counts()"
   ]
  },
  {
   "cell_type": "code",
   "execution_count": 14,
   "id": "98aec7fb",
   "metadata": {},
   "outputs": [
    {
     "name": "stdout",
     "output_type": "stream",
     "text": [
      "<class 'pandas.core.frame.DataFrame'>\n",
      "RangeIndex: 720 entries, 0 to 719\n",
      "Data columns (total 4 columns):\n",
      " #   Column      Non-Null Count  Dtype \n",
      "---  ------      --------------  ----- \n",
      " 0   Model       720 non-null    object\n",
      " 1   Model_Type  720 non-null    object\n",
      " 2   RAM (GB)    720 non-null    object\n",
      " 3   HD          720 non-null    object\n",
      "dtypes: object(4)\n",
      "memory usage: 22.6+ KB\n"
     ]
    }
   ],
   "source": [
    "df_.info()"
   ]
  },
  {
   "cell_type": "code",
   "execution_count": 15,
   "id": "fbaf71ab",
   "metadata": {},
   "outputs": [],
   "source": [
    "for row in range(df_.shape[0]):\n",
    "    HD_val = int(df_.loc[row, \"HD\"])\n",
    "    if int(HD_val) < 10:\n",
    "        df_.loc[row, \"HD\"] = 1024 * int(HD_val)"
   ]
  },
  {
   "cell_type": "code",
   "execution_count": 16,
   "id": "a0ad6832",
   "metadata": {},
   "outputs": [
    {
     "data": {
      "text/html": [
       "<div>\n",
       "<style scoped>\n",
       "    .dataframe tbody tr th:only-of-type {\n",
       "        vertical-align: middle;\n",
       "    }\n",
       "\n",
       "    .dataframe tbody tr th {\n",
       "        vertical-align: top;\n",
       "    }\n",
       "\n",
       "    .dataframe thead th {\n",
       "        text-align: right;\n",
       "    }\n",
       "</style>\n",
       "<table border=\"1\" class=\"dataframe\">\n",
       "  <thead>\n",
       "    <tr style=\"text-align: right;\">\n",
       "      <th></th>\n",
       "      <th>Model</th>\n",
       "      <th>Model_Type</th>\n",
       "      <th>RAM (GB)</th>\n",
       "      <th>HD</th>\n",
       "    </tr>\n",
       "  </thead>\n",
       "  <tbody>\n",
       "    <tr>\n",
       "      <th>0</th>\n",
       "      <td>Lenovo</td>\n",
       "      <td>IdeaPad 3</td>\n",
       "      <td>8</td>\n",
       "      <td>256</td>\n",
       "    </tr>\n",
       "    <tr>\n",
       "      <th>1</th>\n",
       "      <td>Lenovo</td>\n",
       "      <td>IdeaPad 3</td>\n",
       "      <td>8</td>\n",
       "      <td>512</td>\n",
       "    </tr>\n",
       "    <tr>\n",
       "      <th>2</th>\n",
       "      <td>ASUS</td>\n",
       "      <td>VivoBook 15 (2022)</td>\n",
       "      <td>8</td>\n",
       "      <td>512</td>\n",
       "    </tr>\n",
       "    <tr>\n",
       "      <th>3</th>\n",
       "      <td>HP</td>\n",
       "      <td>Pavilion Ryzen 5 Hexa</td>\n",
       "      <td>8</td>\n",
       "      <td>512</td>\n",
       "    </tr>\n",
       "    <tr>\n",
       "      <th>4</th>\n",
       "      <td>ASUS</td>\n",
       "      <td>TUF Gaming F15</td>\n",
       "      <td>8</td>\n",
       "      <td>512</td>\n",
       "    </tr>\n",
       "    <tr>\n",
       "      <th>...</th>\n",
       "      <td>...</td>\n",
       "      <td>...</td>\n",
       "      <td>...</td>\n",
       "      <td>...</td>\n",
       "    </tr>\n",
       "    <tr>\n",
       "      <th>715</th>\n",
       "      <td>ASUS</td>\n",
       "      <td>Chromebook Flip Touch Celeron Dual</td>\n",
       "      <td>4</td>\n",
       "      <td>64</td>\n",
       "    </tr>\n",
       "    <tr>\n",
       "      <th>716</th>\n",
       "      <td>Lenovo</td>\n",
       "      <td>IdeaPad Gaming 3 Ryzen 7 Octa</td>\n",
       "      <td>8</td>\n",
       "      <td>512</td>\n",
       "    </tr>\n",
       "    <tr>\n",
       "      <th>717</th>\n",
       "      <td>ASUS</td>\n",
       "      <td>ROG Zephyrus G15 Ryzen 9 Octa</td>\n",
       "      <td>16</td>\n",
       "      <td>1024</td>\n",
       "    </tr>\n",
       "    <tr>\n",
       "      <th>718</th>\n",
       "      <td>ASUS</td>\n",
       "      <td>Zenbook Flip 14 OLED (2022) Touch Panel</td>\n",
       "      <td>16</td>\n",
       "      <td>512</td>\n",
       "    </tr>\n",
       "    <tr>\n",
       "      <th>719</th>\n",
       "      <td>Lenovo</td>\n",
       "      <td>Ideapad Slim 3i</td>\n",
       "      <td>8</td>\n",
       "      <td>1024</td>\n",
       "    </tr>\n",
       "  </tbody>\n",
       "</table>\n",
       "<p>720 rows × 4 columns</p>\n",
       "</div>"
      ],
      "text/plain": [
       "      Model                                Model_Type RAM (GB)    HD\n",
       "0    Lenovo                                IdeaPad 3         8   256\n",
       "1    Lenovo                                IdeaPad 3         8   512\n",
       "2      ASUS                       VivoBook 15 (2022)         8   512\n",
       "3        HP                    Pavilion Ryzen 5 Hexa         8   512\n",
       "4      ASUS                           TUF Gaming F15         8   512\n",
       "..      ...                                       ...      ...   ...\n",
       "715    ASUS       Chromebook Flip Touch Celeron Dual         4    64\n",
       "716  Lenovo            IdeaPad Gaming 3 Ryzen 7 Octa         8   512\n",
       "717    ASUS            ROG Zephyrus G15 Ryzen 9 Octa        16  1024\n",
       "718    ASUS  Zenbook Flip 14 OLED (2022) Touch Panel        16   512\n",
       "719  Lenovo                          Ideapad Slim 3i         8  1024\n",
       "\n",
       "[720 rows x 4 columns]"
      ]
     },
     "execution_count": 16,
     "metadata": {},
     "output_type": "execute_result"
    }
   ],
   "source": [
    "df_"
   ]
  },
  {
   "cell_type": "code",
   "execution_count": 17,
   "id": "321b508a",
   "metadata": {},
   "outputs": [
    {
     "data": {
      "text/plain": [
       "array(['Lenovo', 'ASUS', 'HP', 'DELL', 'RedmiBook', 'realme', 'acer',\n",
       "       'MSI', 'APPLE', 'Infinix', 'SAMSUNG', 'Ultimus', 'Vaio',\n",
       "       'GIGABYTE', 'Nokia', 'ALIENWARE'], dtype=object)"
      ]
     },
     "execution_count": 17,
     "metadata": {},
     "output_type": "execute_result"
    }
   ],
   "source": [
    "df_[\"Model\"].unique()"
   ]
  },
  {
   "cell_type": "code",
   "execution_count": 18,
   "id": "be5260c8",
   "metadata": {},
   "outputs": [
    {
     "data": {
      "image/png": "[encoded data removed]",
      "text/plain": [
       "<Figure size 2500x1000 with 1 Axes>"
      ]
     },
     "metadata": {},
     "output_type": "display_data"
    }
   ],
   "source": [
    "plt.figure(figsize=(25, 10))\n",
    "sns.countplot(data = df_, x = df_.Model)\n",
    "plt.show()"
   ]
  },
  {
   "cell_type": "code",
   "execution_count": 19,
   "id": "b067f49b",
   "metadata": {},
   "outputs": [
    {
     "data": {
      "image/png": "[encoded data removed]",
      "text/plain": [
       "<Figure size 2500x1000 with 1 Axes>"
      ]
     },
     "metadata": {},
     "output_type": "display_data"
    }
   ],
   "source": [
    "plt.figure(figsize=(25, 10))\n",
    "sns.countplot(data = df_, x = df_.HD)\n",
    "plt.show()"
   ]
  },
  {
   "cell_type": "markdown",
   "id": "987629f9",
   "metadata": {},
   "source": [
    "## Transform the label features to numerical features"
   ]
  },
  {
   "cell_type": "code",
   "execution_count": 20,
   "id": "9c82731c",
   "metadata": {},
   "outputs": [],
   "source": [
    "from sklearn.preprocessing import LabelEncoder\n",
    "lbl_enc = LabelEncoder()\n",
    "df_enc = pd.DataFrame()\n",
    "\n",
    "for col in df_.columns[:-1]:\n",
    "    df_enc[col] = lbl_enc.fit_transform(df_[col])"
   ]
  },
  {
   "cell_type": "code",
   "execution_count": 21,
   "id": "5cd4c03a",
   "metadata": {},
   "outputs": [
    {
     "data": {
      "text/html": [
       "<div>\n",
       "<style scoped>\n",
       "    .dataframe tbody tr th:only-of-type {\n",
       "        vertical-align: middle;\n",
       "    }\n",
       "\n",
       "    .dataframe tbody tr th {\n",
       "        vertical-align: top;\n",
       "    }\n",
       "\n",
       "    .dataframe thead th {\n",
       "        text-align: right;\n",
       "    }\n",
       "</style>\n",
       "<table border=\"1\" class=\"dataframe\">\n",
       "  <thead>\n",
       "    <tr style=\"text-align: right;\">\n",
       "      <th></th>\n",
       "      <th>Model</th>\n",
       "      <th>Model_Type</th>\n",
       "      <th>RAM (GB)</th>\n",
       "    </tr>\n",
       "  </thead>\n",
       "  <tbody>\n",
       "    <tr>\n",
       "      <th>0</th>\n",
       "      <td>7</td>\n",
       "      <td>73</td>\n",
       "      <td>3</td>\n",
       "    </tr>\n",
       "    <tr>\n",
       "      <th>1</th>\n",
       "      <td>7</td>\n",
       "      <td>73</td>\n",
       "      <td>3</td>\n",
       "    </tr>\n",
       "    <tr>\n",
       "      <th>2</th>\n",
       "      <td>2</td>\n",
       "      <td>191</td>\n",
       "      <td>3</td>\n",
       "    </tr>\n",
       "    <tr>\n",
       "      <th>3</th>\n",
       "      <td>5</td>\n",
       "      <td>123</td>\n",
       "      <td>3</td>\n",
       "    </tr>\n",
       "    <tr>\n",
       "      <th>4</th>\n",
       "      <td>2</td>\n",
       "      <td>173</td>\n",
       "      <td>3</td>\n",
       "    </tr>\n",
       "    <tr>\n",
       "      <th>...</th>\n",
       "      <td>...</td>\n",
       "      <td>...</td>\n",
       "      <td>...</td>\n",
       "    </tr>\n",
       "    <tr>\n",
       "      <th>715</th>\n",
       "      <td>2</td>\n",
       "      <td>44</td>\n",
       "      <td>2</td>\n",
       "    </tr>\n",
       "    <tr>\n",
       "      <th>716</th>\n",
       "      <td>7</td>\n",
       "      <td>85</td>\n",
       "      <td>3</td>\n",
       "    </tr>\n",
       "    <tr>\n",
       "      <th>717</th>\n",
       "      <td>2</td>\n",
       "      <td>148</td>\n",
       "      <td>0</td>\n",
       "    </tr>\n",
       "    <tr>\n",
       "      <th>718</th>\n",
       "      <td>2</td>\n",
       "      <td>223</td>\n",
       "      <td>0</td>\n",
       "    </tr>\n",
       "    <tr>\n",
       "      <th>719</th>\n",
       "      <td>7</td>\n",
       "      <td>91</td>\n",
       "      <td>3</td>\n",
       "    </tr>\n",
       "  </tbody>\n",
       "</table>\n",
       "<p>720 rows × 3 columns</p>\n",
       "</div>"
      ],
      "text/plain": [
       "     Model  Model_Type  RAM (GB)\n",
       "0        7          73         3\n",
       "1        7          73         3\n",
       "2        2         191         3\n",
       "3        5         123         3\n",
       "4        2         173         3\n",
       "..     ...         ...       ...\n",
       "715      2          44         2\n",
       "716      7          85         3\n",
       "717      2         148         0\n",
       "718      2         223         0\n",
       "719      7          91         3\n",
       "\n",
       "[720 rows x 3 columns]"
      ]
     },
     "execution_count": 21,
     "metadata": {},
     "output_type": "execute_result"
    }
   ],
   "source": [
    "df_enc"
   ]
  },
  {
   "cell_type": "code",
   "execution_count": 22,
   "id": "77a0f633",
   "metadata": {},
   "outputs": [
    {
     "data": {
      "text/plain": [
       "73     67\n",
       "0      43\n",
       "138    31\n",
       "127    31\n",
       "72     30\n",
       "       ..\n",
       "108     1\n",
       "100     1\n",
       "132     1\n",
       "155     1\n",
       "91      1\n",
       "Name: Model_Type, Length: 227, dtype: int64"
      ]
     },
     "execution_count": 22,
     "metadata": {},
     "output_type": "execute_result"
    }
   ],
   "source": [
    "df_enc.Model_Type.value_counts()"
   ]
  },
  {
   "cell_type": "code",
   "execution_count": 23,
   "id": "665ddb33",
   "metadata": {},
   "outputs": [
    {
     "data": {
      "text/html": [
       "<div>\n",
       "<style scoped>\n",
       "    .dataframe tbody tr th:only-of-type {\n",
       "        vertical-align: middle;\n",
       "    }\n",
       "\n",
       "    .dataframe tbody tr th {\n",
       "        vertical-align: top;\n",
       "    }\n",
       "\n",
       "    .dataframe thead th {\n",
       "        text-align: right;\n",
       "    }\n",
       "</style>\n",
       "<table border=\"1\" class=\"dataframe\">\n",
       "  <thead>\n",
       "    <tr style=\"text-align: right;\">\n",
       "      <th></th>\n",
       "      <th>Model</th>\n",
       "      <th>Model_Type</th>\n",
       "      <th>RAM (GB)</th>\n",
       "      <th>Rating</th>\n",
       "    </tr>\n",
       "  </thead>\n",
       "  <tbody>\n",
       "    <tr>\n",
       "      <th>0</th>\n",
       "      <td>7</td>\n",
       "      <td>73</td>\n",
       "      <td>3</td>\n",
       "      <td>4.2</td>\n",
       "    </tr>\n",
       "    <tr>\n",
       "      <th>1</th>\n",
       "      <td>7</td>\n",
       "      <td>73</td>\n",
       "      <td>3</td>\n",
       "      <td>4.2</td>\n",
       "    </tr>\n",
       "    <tr>\n",
       "      <th>2</th>\n",
       "      <td>2</td>\n",
       "      <td>191</td>\n",
       "      <td>3</td>\n",
       "      <td>4.3</td>\n",
       "    </tr>\n",
       "  </tbody>\n",
       "</table>\n",
       "</div>"
      ],
      "text/plain": [
       "   Model  Model_Type  RAM (GB)  Rating\n",
       "0      7          73         3     4.2\n",
       "1      7          73         3     4.2\n",
       "2      2         191         3     4.3"
      ]
     },
     "execution_count": 23,
     "metadata": {},
     "output_type": "execute_result"
    }
   ],
   "source": [
    "df_ = pd.concat([df_enc, df[\"Rating\"]], axis =1)\n",
    "df_.head(3)"
   ]
  },
  {
   "cell_type": "code",
   "execution_count": 24,
   "id": "3749d793",
   "metadata": {},
   "outputs": [],
   "source": [
    "df = pd.concat([df_, df.MRP], axis=1)\n",
    "df.drop(['Model_Type'], inplace=True, axis =1)\n",
    "df.dropna(axis=0, inplace=True)\n",
    "df.shape\n",
    "\n",
    "X = df.iloc[:, :-1]\n",
    "y = df.iloc[:,-1]"
   ]
  },
  {
   "cell_type": "markdown",
   "id": "808b6757",
   "metadata": {},
   "source": [
    "## Split the data and model creation"
   ]
  },
  {
   "cell_type": "code",
   "execution_count": 25,
   "id": "c03bc333",
   "metadata": {},
   "outputs": [],
   "source": [
    "from sklearn.model_selection import train_test_split"
   ]
  },
  {
   "cell_type": "code",
   "execution_count": 26,
   "id": "2e684a43",
   "metadata": {},
   "outputs": [],
   "source": [
    "X_train, X_test, y_train, y_test = train_test_split(X, y, train_size=0.9, random_state=40)"
   ]
  },
  {
   "cell_type": "code",
   "execution_count": 27,
   "id": "34b6cb11",
   "metadata": {},
   "outputs": [
    {
     "data": {
      "text/plain": [
       "array([ 18758.93477031,  90659.92842912, 117983.96567079,  56125.33240397,\n",
       "        56802.92272533,  43864.83575026,  61980.71054472,  61146.51259996,\n",
       "       112962.7854748 ,  61146.51259996,  56125.33240397,  43864.83575026,\n",
       "       129474.18935431,  56125.33240397,  34500.06567965,  51104.15220798,\n",
       "       117983.96567079, 112962.7854748 ,   9486.84734852, 117983.96567079,\n",
       "        63714.10720236,  51781.74252934,  85546.06558431,  79783.37009238,\n",
       "        48886.01594625,  46760.56233335,  41596.61545431,  36040.61162001,\n",
       "        43864.83575026,  43772.15310145, 117983.96567079,  38843.65555427,\n",
       "        43864.83575026,  77657.91647947,  21654.6613534 ,  48886.01594625,\n",
       "       133047.50625876,  44635.10872045,  58928.37633823,  42324.2898099 ,\n",
       "       117983.96567079, 117983.96567079,  49656.28891644,  72636.73628348,\n",
       "        39613.92852446, 112962.7854748 ,  58928.37633823,  31697.02174538,\n",
       "        96451.38159529, 102920.42508282,  43864.83575026,  38750.97290546,\n",
       "       117983.96567079,  91273.5937759 ,  41061.791816  ,  34500.06567965,\n",
       "        66167.69279595, 117983.96567079,  48886.01594625])"
      ]
     },
     "execution_count": 27,
     "metadata": {},
     "output_type": "execute_result"
    }
   ],
   "source": [
    "from sklearn.linear_model import LinearRegression\n",
    "\n",
    "lin_reg = LinearRegression()\n",
    "\n",
    "lin_reg.fit(X_train, y_train)\n",
    "\n",
    "y_pred_lr = lin_reg.predict(X_test)\n",
    "y_pred_lr"
   ]
  },
  {
   "cell_type": "code",
   "execution_count": 28,
   "id": "df44c123",
   "metadata": {},
   "outputs": [
    {
     "data": {
      "text/plain": [
       "array([ 31939.92451776,  97063.07629403, 115468.97704237,  55462.17823351,\n",
       "        53116.4378291 ,  44730.80693628,  83348.6563545 ,  58020.35471721,\n",
       "       112910.80055867,  58020.35471721,  55462.17823351,  44730.80693628,\n",
       "       122219.96897249,  55462.17823351,  37268.71356447,  52904.0017498 ,\n",
       "       115468.97704237, 112910.80055867,  30803.95091746, 115468.97704237,\n",
       "        60752.6938388 ,  50558.2613454 ,  88178.78003881,  66618.42168933,\n",
       "        47288.98341999,  48000.08486169,  57557.20911719,  45229.47229869,\n",
       "        44730.80693628,  38404.68716477, 115468.97704237,  42172.63045258,\n",
       "        44730.80693628,  67329.52313104,  35209.20244316,  47288.98341999,\n",
       "       123143.50649349,  48711.18630339,  52405.3363874 ,  36770.04820206,\n",
       "       115468.97704237, 115468.97704237,  51269.3627871 ,  64771.34664733,\n",
       "        46153.00981969, 112910.80055867,  52405.3363874 ,  40325.55541058,\n",
       "       103601.63214485, 107794.44759126,  44730.80693628,  35846.51068106,\n",
       "       115468.97704237,  73369.41361945,  47787.64878239,  37268.71356447,\n",
       "        60578.53120092, 115468.97704237,  47288.98341999])"
      ]
     },
     "execution_count": 28,
     "metadata": {},
     "output_type": "execute_result"
    }
   ],
   "source": [
    "from sklearn.linear_model import SGDRegressor\n",
    "\n",
    "sgd_reg = SGDRegressor()\n",
    "\n",
    "sgd_reg.fit(X_train, y_train)\n",
    "\n",
    "y_pred_sgd = sgd_reg.predict(X_test)\n",
    "y_pred_sgd"
   ]
  },
  {
   "cell_type": "code",
   "execution_count": 29,
   "id": "146de582",
   "metadata": {},
   "outputs": [
    {
     "data": {
      "text/plain": [
       "array([ 36593.93210882, 102133.48480935, 120945.61656285,  60740.44592569,\n",
       "        58521.61638131,  49929.88726724,  87759.01214459,  63407.63695737,\n",
       "       118278.42553116,  63407.63695737,  60740.44592569,  49929.88726724,\n",
       "       127908.67215157,  60740.44592569,  42376.67565949,  58073.254894  ,\n",
       "       120945.61656285, 118278.42553116,  35107.05311517, 120945.61656285,\n",
       "        66150.7744099 ,  55854.42534963,  93399.96116356,  72447.72755875,\n",
       "        52597.07829892,  53187.23431794,  62138.49891628,  50071.68179895,\n",
       "        49929.88726724,  43863.55465314, 120945.61656285,  47262.69623555,\n",
       "        49929.88726724,  73037.88357778,  39851.27915952,  52597.07829892,\n",
       "       128947.1896579 ,  53777.39033696,  57931.46036229,  42234.88112778,\n",
       "       120945.61656285, 120945.61656285,  56444.58136865,  70370.69254609,\n",
       "        51110.19930528, 118278.42553116,  57931.46036229,  45185.66122289,\n",
       "       108648.17891076, 112944.04346779,  49929.88726724,  41196.36362145,\n",
       "       120945.61656285,  79410.78314748,  52738.87283063,  42376.67565949,\n",
       "        66074.82798905, 120945.61656285,  52597.07829892])"
      ]
     },
     "execution_count": 29,
     "metadata": {},
     "output_type": "execute_result"
    }
   ],
   "source": [
    "from sklearn.svm import SVR\n",
    "\n",
    "svc_reg = SGDRegressor()\n",
    "\n",
    "svc_reg.fit(X_train, y_train)\n",
    "\n",
    "y_pred_svc = svc_reg.predict(X_test)\n",
    "y_pred_svc"
   ]
  },
  {
   "cell_type": "markdown",
   "id": "86722784",
   "metadata": {},
   "source": [
    "## Evaluate the metrics for regression models"
   ]
  },
  {
   "cell_type": "code",
   "execution_count": 30,
   "id": "c2964d67",
   "metadata": {},
   "outputs": [],
   "source": [
    "def eval_metrics(model_name, y_pred, y_test):\n",
    "    from sklearn.metrics import mean_squared_error, r2_score, mean_absolute_error\n",
    "    print(\"*\"*70)\n",
    "    print(\"Model name: {0}\".format(model_name))\n",
    "    \n",
    "    mse = mean_squared_error(y_pred, y_test)\n",
    "    print(\"Mean Squared Error: \", round(mse, 2))\n",
    "\n",
    "    print(\"Root Mean Squared Error: \", round(np.sqrt(mse), 2))\n",
    "\n",
    "    mae = mean_absolute_error(y_pred, y_test)\n",
    "    print(\"Mean Absolute Error: \", round(mae, 2))\n",
    "\n",
    "    r2_score = r2_score(y_pred, y_test)\n",
    "    print(\"R2 Score: \", round(r2_score, 2))"
   ]
  },
  {
   "cell_type": "code",
   "execution_count": 31,
   "id": "ecaffc9d",
   "metadata": {},
   "outputs": [
    {
     "name": "stdout",
     "output_type": "stream",
     "text": [
      "**********************************************************************\n",
      "Model name: Linear Regression\n",
      "Mean Squared Error:  769203028.22\n",
      "Root Mean Squared Error:  27734.51\n",
      "Mean Absolute Error:  19758.32\n",
      "R2 Score:  0.27\n",
      "**********************************************************************\n",
      "Model name: SGD Regression\n",
      "Mean Squared Error:  814501075.08\n",
      "Root Mean Squared Error:  28539.47\n",
      "Mean Absolute Error:  20393.24\n",
      "R2 Score:  0.09\n",
      "**********************************************************************\n",
      "Model name: SVC Regression\n",
      "Mean Squared Error:  872501410.23\n",
      "Root Mean Squared Error:  29538.13\n",
      "Mean Absolute Error:  22580.58\n",
      "R2 Score:  0.04\n"
     ]
    }
   ],
   "source": [
    "eval_metrics(\"Linear Regression\", y_pred_lr, y_test)\n",
    "eval_metrics(\"SGD Regression\", y_pred_sgd, y_test)\n",
    "eval_metrics(\"SVC Regression\", y_pred_svc, y_test)"
   ]
  },
  {
   "cell_type": "code",
   "execution_count": null,
   "id": "41f6272a",
   "metadata": {},
   "outputs": [],
   "source": []
  }
 ],
 "metadata": {
  "kernelspec": {
   "display_name": "Python 3 (ipykernel)",
   "language": "python",
   "name": "python3"
  },
  "language_info": {
   "codemirror_mode": {
    "name": "ipython",
    "version": 3
   },
   "file_extension": ".py",
   "mimetype": "text/x-python",
   "name": "python",
   "nbconvert_exporter": "python",
   "pygments_lexer": "ipython3",
   "version": "3.9.13"
  }
 },
 "nbformat": 4,
 "nbformat_minor": 5
}
